{
 "cells": [
  {
   "cell_type": "code",
   "execution_count": 10,
   "metadata": {},
   "outputs": [],
   "source": [
    "from langchain_community.document_loaders import YoutubeLoader\n",
    "from langchain_community.document_loaders.youtube import TranscriptFormat\n",
    "\n",
    "urls = [\"https://www.youtube.com/watch?v=8JQl8FXUZ8c\",\n",
    "       \"https://www.youtube.com/watch?v=J7KEJzPksnc\",\n",
    "       \"https://www.youtube.com/watch?v=P2P7Dcbp4wI\"]\n",
    "\n",
    "\n",
    "for url in urls:\n",
    "    loader = YoutubeLoader.from_youtube_url(\n",
    "        url,\n",
    "        add_video_info=True,\n",
    "        language=[\"pt\"],\n",
    "        #transcript_format=TranscriptFormat.CHUNKS,\n",
    "        #chunk_size_seconds=60,\n",
    "    )\n",
    "\n",
    "    docs = loader.load()\n",
    "    filename = docs[0].metadata['title']\n",
    "    filename = filename.replace(' ', '_')\n",
    "    filename = filename.replace('/', '_')\n",
    "    filename = filename.replace('\"', '_')\n",
    "\n",
    "    with open(f\"graphrag/input/{filename}.txt\", \"w\") as f:\n",
    "        for doc in docs:\n",
    "            f.write(f\"Nome do vídeo: {doc.metadata['title']}\\n\")\n",
    "            f.write(f\"Canal: {doc.metadata['author']}\\n\\n\")\n",
    "            f.write(doc.page_content)\n",
    "            f.write(\"\\n\")"
   ]
  },
  {
   "cell_type": "code",
   "execution_count": null,
   "metadata": {},
   "outputs": [],
   "source": []
  }
 ],
 "metadata": {
  "kernelspec": {
   "display_name": "estudo",
   "language": "python",
   "name": "python3"
  },
  "language_info": {
   "codemirror_mode": {
    "name": "ipython",
    "version": 3
   },
   "file_extension": ".py",
   "mimetype": "text/x-python",
   "name": "python",
   "nbconvert_exporter": "python",
   "pygments_lexer": "ipython3",
   "version": "3.12.7"
  }
 },
 "nbformat": 4,
 "nbformat_minor": 2
}
